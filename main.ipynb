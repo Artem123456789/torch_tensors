{
 "cells": [
  {
   "cell_type": "code",
   "execution_count": 1,
   "id": "c8d21d9e-25cd-4be9-bd43-2d300afee69e",
   "metadata": {},
   "outputs": [],
   "source": [
    "import torch\n",
    "import numpy as np"
   ]
  },
  {
   "cell_type": "code",
   "execution_count": 3,
   "id": "726d19e3-dc4c-4486-87cd-1225ae11e2de",
   "metadata": {},
   "outputs": [],
   "source": [
    "data = np.random.rand(5,5)"
   ]
  },
  {
   "cell_type": "code",
   "execution_count": 4,
   "id": "d0e9dcfa-ab1c-4c58-b56b-a9cd930b1f20",
   "metadata": {},
   "outputs": [
    {
     "data": {
      "text/plain": [
       "array([[0.65037125, 0.89320726, 0.37411988, 0.96139761, 0.72818957],\n",
       "       [0.86394478, 0.71476898, 0.42235692, 0.68894415, 0.53481756],\n",
       "       [0.46912596, 0.6568247 , 0.06532341, 0.32014235, 0.55484491],\n",
       "       [0.65136039, 0.8353833 , 0.57131409, 0.39866451, 0.90393251],\n",
       "       [0.3632311 , 0.68197682, 0.53499599, 0.00441823, 0.78549969]])"
      ]
     },
     "execution_count": 4,
     "metadata": {},
     "output_type": "execute_result"
    }
   ],
   "source": [
    "data"
   ]
  },
  {
   "cell_type": "code",
   "execution_count": 5,
   "id": "664640cd-fb55-4e8a-8a04-8b4381b9747e",
   "metadata": {},
   "outputs": [],
   "source": [
    "x_data = torch.tensor(data)"
   ]
  },
  {
   "cell_type": "code",
   "execution_count": 6,
   "id": "b06c40a0-312a-4aa4-a5bc-cdfe69ce2424",
   "metadata": {},
   "outputs": [
    {
     "data": {
      "text/plain": [
       "tensor([[0.6504, 0.8932, 0.3741, 0.9614, 0.7282],\n",
       "        [0.8639, 0.7148, 0.4224, 0.6889, 0.5348],\n",
       "        [0.4691, 0.6568, 0.0653, 0.3201, 0.5548],\n",
       "        [0.6514, 0.8354, 0.5713, 0.3987, 0.9039],\n",
       "        [0.3632, 0.6820, 0.5350, 0.0044, 0.7855]], dtype=torch.float64)"
      ]
     },
     "execution_count": 6,
     "metadata": {},
     "output_type": "execute_result"
    }
   ],
   "source": [
    "x_data"
   ]
  },
  {
   "cell_type": "code",
   "execution_count": 7,
   "id": "8ee1cef1-69b0-4e2c-b90d-fc41e2cf57e5",
   "metadata": {},
   "outputs": [],
   "source": [
    "x_np = torch.from_numpy(data)"
   ]
  },
  {
   "cell_type": "code",
   "execution_count": 8,
   "id": "aa2a3750-2a3f-4da7-9771-5c460352c79d",
   "metadata": {},
   "outputs": [
    {
     "data": {
      "text/plain": [
       "tensor([[0.6504, 0.8932, 0.3741, 0.9614, 0.7282],\n",
       "        [0.8639, 0.7148, 0.4224, 0.6889, 0.5348],\n",
       "        [0.4691, 0.6568, 0.0653, 0.3201, 0.5548],\n",
       "        [0.6514, 0.8354, 0.5713, 0.3987, 0.9039],\n",
       "        [0.3632, 0.6820, 0.5350, 0.0044, 0.7855]], dtype=torch.float64)"
      ]
     },
     "execution_count": 8,
     "metadata": {},
     "output_type": "execute_result"
    }
   ],
   "source": [
    "x_np"
   ]
  },
  {
   "cell_type": "code",
   "execution_count": 10,
   "id": "22670fd3-0880-4067-9340-dcd73ca9ce02",
   "metadata": {},
   "outputs": [],
   "source": [
    "x_ones = torch.ones_like(x_data)"
   ]
  },
  {
   "cell_type": "code",
   "execution_count": 11,
   "id": "c5a13f04-ccbd-40b4-b71a-19aa9afc8003",
   "metadata": {},
   "outputs": [
    {
     "data": {
      "text/plain": [
       "tensor([[1., 1., 1., 1., 1.],\n",
       "        [1., 1., 1., 1., 1.],\n",
       "        [1., 1., 1., 1., 1.],\n",
       "        [1., 1., 1., 1., 1.],\n",
       "        [1., 1., 1., 1., 1.]], dtype=torch.float64)"
      ]
     },
     "execution_count": 11,
     "metadata": {},
     "output_type": "execute_result"
    }
   ],
   "source": [
    "x_ones"
   ]
  },
  {
   "cell_type": "code",
   "execution_count": 12,
   "id": "2972fc36-de86-4763-89fe-f28e99151f0e",
   "metadata": {},
   "outputs": [],
   "source": [
    "x_rand = torch.rand_like(x_data, dtype=torch.float)"
   ]
  },
  {
   "cell_type": "code",
   "execution_count": 13,
   "id": "f0bc59ec-cdc6-4b8a-9b76-4999e9a0b880",
   "metadata": {},
   "outputs": [
    {
     "data": {
      "text/plain": [
       "tensor([[0.1142, 0.9232, 0.3299, 0.0584, 0.0336],\n",
       "        [0.3326, 0.9671, 0.1567, 0.3895, 0.4031],\n",
       "        [0.0193, 0.7873, 0.2553, 0.4651, 0.6138],\n",
       "        [0.2338, 0.9324, 0.3030, 0.2105, 0.7594],\n",
       "        [0.8126, 0.5312, 0.8182, 0.7119, 0.5041]])"
      ]
     },
     "execution_count": 13,
     "metadata": {},
     "output_type": "execute_result"
    }
   ],
   "source": [
    "x_rand"
   ]
  },
  {
   "cell_type": "code",
   "execution_count": 14,
   "id": "15339aab-ad41-446b-8559-27dc8148952c",
   "metadata": {},
   "outputs": [],
   "source": [
    "x_zero = torch.zeros_like(x_data)"
   ]
  },
  {
   "cell_type": "code",
   "execution_count": 15,
   "id": "d7618e33-aaae-4a2f-8cc6-40d9eaeb85d8",
   "metadata": {},
   "outputs": [
    {
     "data": {
      "text/plain": [
       "tensor([[0., 0., 0., 0., 0.],\n",
       "        [0., 0., 0., 0., 0.],\n",
       "        [0., 0., 0., 0., 0.],\n",
       "        [0., 0., 0., 0., 0.],\n",
       "        [0., 0., 0., 0., 0.]], dtype=torch.float64)"
      ]
     },
     "execution_count": 15,
     "metadata": {},
     "output_type": "execute_result"
    }
   ],
   "source": [
    "x_zero"
   ]
  },
  {
   "cell_type": "code",
   "execution_count": 18,
   "id": "be60534b-54ff-4eda-ae5e-f5d947cbdb4b",
   "metadata": {},
   "outputs": [],
   "source": [
    "shape = (2,2)\n",
    "rand_tensor = torch.rand(shape)\n",
    "ones_tensor = torch.ones(shape)\n",
    "zeros_tensor = torch.zeros(shape)"
   ]
  },
  {
   "cell_type": "code",
   "execution_count": 19,
   "id": "fc0ece9c-472a-4b73-a0a3-5d18627a607e",
   "metadata": {},
   "outputs": [
    {
     "data": {
      "text/plain": [
       "tensor([[0.5095, 0.0157],\n",
       "        [0.0078, 0.8525]])"
      ]
     },
     "execution_count": 19,
     "metadata": {},
     "output_type": "execute_result"
    }
   ],
   "source": [
    "rand_tensor"
   ]
  },
  {
   "cell_type": "code",
   "execution_count": 20,
   "id": "cbd8c0d0-29dc-4e80-b492-222e14cd2a0d",
   "metadata": {},
   "outputs": [
    {
     "data": {
      "text/plain": [
       "tensor([[1., 1.],\n",
       "        [1., 1.]])"
      ]
     },
     "execution_count": 20,
     "metadata": {},
     "output_type": "execute_result"
    }
   ],
   "source": [
    "ones_tensor"
   ]
  },
  {
   "cell_type": "code",
   "execution_count": 21,
   "id": "1db4d006-3eff-4252-aac7-e06d14fbfc08",
   "metadata": {},
   "outputs": [
    {
     "data": {
      "text/plain": [
       "tensor([[0., 0.],\n",
       "        [0., 0.]])"
      ]
     },
     "execution_count": 21,
     "metadata": {},
     "output_type": "execute_result"
    }
   ],
   "source": [
    "zeros_tensor"
   ]
  },
  {
   "cell_type": "code",
   "execution_count": 29,
   "id": "d8bce50d-64f8-410a-8731-0c92cfebf100",
   "metadata": {},
   "outputs": [],
   "source": [
    "rand_tensor = torch.rand((3,3))"
   ]
  },
  {
   "cell_type": "code",
   "execution_count": 30,
   "id": "bee3ee9a-b977-4c90-937d-95ad9419efcd",
   "metadata": {},
   "outputs": [
    {
     "data": {
      "text/plain": [
       "torch.Size([3, 3])"
      ]
     },
     "execution_count": 30,
     "metadata": {},
     "output_type": "execute_result"
    }
   ],
   "source": [
    "rand_tensor.shape"
   ]
  },
  {
   "cell_type": "code",
   "execution_count": 31,
   "id": "47b6a041-beac-4120-8ad6-8adebdf98222",
   "metadata": {},
   "outputs": [
    {
     "data": {
      "text/plain": [
       "torch.float32"
      ]
     },
     "execution_count": 31,
     "metadata": {},
     "output_type": "execute_result"
    }
   ],
   "source": [
    "rand_tensor.dtype"
   ]
  },
  {
   "cell_type": "code",
   "execution_count": 32,
   "id": "a1ba0431-9424-4ebd-b383-d141d24da2c7",
   "metadata": {},
   "outputs": [
    {
     "data": {
      "text/plain": [
       "device(type='cpu')"
      ]
     },
     "execution_count": 32,
     "metadata": {},
     "output_type": "execute_result"
    }
   ],
   "source": [
    "rand_tensor.device"
   ]
  },
  {
   "cell_type": "code",
   "execution_count": 33,
   "id": "f2386b5a-0c4a-49c2-ba64-5cbcd5427f59",
   "metadata": {},
   "outputs": [
    {
     "data": {
      "text/plain": [
       "False"
      ]
     },
     "execution_count": 33,
     "metadata": {},
     "output_type": "execute_result"
    }
   ],
   "source": [
    "torch.cuda.is_available()"
   ]
  },
  {
   "cell_type": "code",
   "execution_count": 34,
   "id": "49e2fa6c-5dd9-4fc2-b66e-c4ab95107d3b",
   "metadata": {},
   "outputs": [],
   "source": [
    "ones_tensor = torch.ones(4, 4)"
   ]
  },
  {
   "cell_type": "code",
   "execution_count": 35,
   "id": "a63f21ef-216c-4060-aeb4-3cad96f0275f",
   "metadata": {},
   "outputs": [
    {
     "data": {
      "text/plain": [
       "tensor([1., 1., 1., 1.])"
      ]
     },
     "execution_count": 35,
     "metadata": {},
     "output_type": "execute_result"
    }
   ],
   "source": [
    "ones_tensor[0]"
   ]
  },
  {
   "cell_type": "code",
   "execution_count": 36,
   "id": "af048176-63cd-439c-af39-9b402b96fd7e",
   "metadata": {},
   "outputs": [
    {
     "data": {
      "text/plain": [
       "tensor([1., 1., 1., 1.])"
      ]
     },
     "execution_count": 36,
     "metadata": {},
     "output_type": "execute_result"
    }
   ],
   "source": [
    "ones_tensor[:, 0]"
   ]
  },
  {
   "cell_type": "code",
   "execution_count": 37,
   "id": "534e7237-c78c-43f0-be1e-35e46dfdd139",
   "metadata": {},
   "outputs": [
    {
     "data": {
      "text/plain": [
       "tensor([[0.9112, 0.3107, 0.9816],\n",
       "        [0.2061, 0.5889, 0.3835],\n",
       "        [0.7796, 0.2611, 0.0423]])"
      ]
     },
     "execution_count": 37,
     "metadata": {},
     "output_type": "execute_result"
    }
   ],
   "source": [
    "rand_tensor"
   ]
  },
  {
   "cell_type": "code",
   "execution_count": 38,
   "id": "e385c72c-a66f-414d-9ad7-ecd8ca180a86",
   "metadata": {},
   "outputs": [
    {
     "data": {
      "text/plain": [
       "tensor([0.9112, 0.3107, 0.9816])"
      ]
     },
     "execution_count": 38,
     "metadata": {},
     "output_type": "execute_result"
    }
   ],
   "source": [
    "rand_tensor[0]"
   ]
  },
  {
   "cell_type": "code",
   "execution_count": 39,
   "id": "effcb502-ab87-4b15-b3bc-4d5496b0b74a",
   "metadata": {},
   "outputs": [
    {
     "data": {
      "text/plain": [
       "tensor([0.9112, 0.2061, 0.7796])"
      ]
     },
     "execution_count": 39,
     "metadata": {},
     "output_type": "execute_result"
    }
   ],
   "source": [
    "rand_tensor[:, 0]"
   ]
  },
  {
   "cell_type": "code",
   "execution_count": 40,
   "id": "f6c6dcf5-5a2f-4098-b55e-6ca7a384581e",
   "metadata": {},
   "outputs": [
    {
     "data": {
      "text/plain": [
       "tensor([0.9816, 0.3835, 0.0423])"
      ]
     },
     "execution_count": 40,
     "metadata": {},
     "output_type": "execute_result"
    }
   ],
   "source": [
    "rand_tensor[:, -1]"
   ]
  },
  {
   "cell_type": "code",
   "execution_count": 41,
   "id": "fe788726-221f-4f06-9318-cb7f87d44659",
   "metadata": {},
   "outputs": [],
   "source": [
    "rand_tensor[:,1] = 0"
   ]
  },
  {
   "cell_type": "code",
   "execution_count": 42,
   "id": "41da005c-d7b9-402b-b9e3-bdf7984ec438",
   "metadata": {},
   "outputs": [
    {
     "data": {
      "text/plain": [
       "tensor([[0.9112, 0.0000, 0.9816],\n",
       "        [0.2061, 0.0000, 0.3835],\n",
       "        [0.7796, 0.0000, 0.0423]])"
      ]
     },
     "execution_count": 42,
     "metadata": {},
     "output_type": "execute_result"
    }
   ],
   "source": [
    "rand_tensor"
   ]
  },
  {
   "cell_type": "code",
   "execution_count": 47,
   "id": "dac9d0af-c5e7-4114-b7b8-80866cc6eacc",
   "metadata": {},
   "outputs": [],
   "source": [
    "rand_tensor[:,1] = np.random.rand()"
   ]
  },
  {
   "cell_type": "code",
   "execution_count": 48,
   "id": "a42a8b24-c195-4d4a-bd05-202c655ebad1",
   "metadata": {},
   "outputs": [
    {
     "data": {
      "text/plain": [
       "tensor([[0.9112, 0.3383, 0.9816],\n",
       "        [0.2061, 0.3383, 0.3835],\n",
       "        [0.7796, 0.3383, 0.0423]])"
      ]
     },
     "execution_count": 48,
     "metadata": {},
     "output_type": "execute_result"
    }
   ],
   "source": [
    "rand_tensor"
   ]
  },
  {
   "cell_type": "code",
   "execution_count": 51,
   "id": "d539d218-9f98-4372-8a5b-fa6b27fed401",
   "metadata": {},
   "outputs": [],
   "source": [
    "ones_tensor = torch.ones((3,3))"
   ]
  },
  {
   "cell_type": "code",
   "execution_count": 52,
   "id": "92ab907d-d108-48e3-903e-11acf8cf7596",
   "metadata": {},
   "outputs": [],
   "source": [
    "cat_tensor = torch.cat([rand_tensor, ones_tensor], dim=1)"
   ]
  },
  {
   "cell_type": "code",
   "execution_count": 53,
   "id": "861b1a3c-9b73-470e-8f67-45bf71790185",
   "metadata": {},
   "outputs": [
    {
     "data": {
      "text/plain": [
       "tensor([[0.9112, 0.3383, 0.9816, 1.0000, 1.0000, 1.0000],\n",
       "        [0.2061, 0.3383, 0.3835, 1.0000, 1.0000, 1.0000],\n",
       "        [0.7796, 0.3383, 0.0423, 1.0000, 1.0000, 1.0000]])"
      ]
     },
     "execution_count": 53,
     "metadata": {},
     "output_type": "execute_result"
    }
   ],
   "source": [
    "cat_tensor"
   ]
  },
  {
   "cell_type": "code",
   "execution_count": 54,
   "id": "9c68107a-51ce-42cb-9dc4-5f68f7bc2eca",
   "metadata": {},
   "outputs": [],
   "source": [
    "cat_tensor = torch.cat([rand_tensor, ones_tensor], dim=0)"
   ]
  },
  {
   "cell_type": "code",
   "execution_count": 55,
   "id": "580a5f15-d6b0-41e8-a023-894e4eb01f33",
   "metadata": {},
   "outputs": [
    {
     "data": {
      "text/plain": [
       "tensor([[0.9112, 0.3383, 0.9816],\n",
       "        [0.2061, 0.3383, 0.3835],\n",
       "        [0.7796, 0.3383, 0.0423],\n",
       "        [1.0000, 1.0000, 1.0000],\n",
       "        [1.0000, 1.0000, 1.0000],\n",
       "        [1.0000, 1.0000, 1.0000]])"
      ]
     },
     "execution_count": 55,
     "metadata": {},
     "output_type": "execute_result"
    }
   ],
   "source": [
    "cat_tensor"
   ]
  },
  {
   "cell_type": "code",
   "execution_count": 56,
   "id": "d391ac32-9526-4132-8182-e51210f464eb",
   "metadata": {},
   "outputs": [
    {
     "data": {
      "text/plain": [
       "tensor([[0.9112, 0.2061, 0.7796, 1.0000, 1.0000, 1.0000],\n",
       "        [0.3383, 0.3383, 0.3383, 1.0000, 1.0000, 1.0000],\n",
       "        [0.9816, 0.3835, 0.0423, 1.0000, 1.0000, 1.0000]])"
      ]
     },
     "execution_count": 56,
     "metadata": {},
     "output_type": "execute_result"
    }
   ],
   "source": [
    "cat_tensor.T"
   ]
  },
  {
   "cell_type": "code",
   "execution_count": 57,
   "id": "b8fcaf0b-68ed-4d49-925c-624599e1e1f9",
   "metadata": {},
   "outputs": [],
   "source": [
    "cat_tensor_mult = cat_tensor @ cat_tensor.T"
   ]
  },
  {
   "cell_type": "code",
   "execution_count": 58,
   "id": "fc759e72-2670-4b7b-837a-8e83010430ea",
   "metadata": {},
   "outputs": [
    {
     "data": {
      "text/plain": [
       "tensor([[1.9082, 0.6787, 0.8663, 2.2311, 2.2311, 2.2311],\n",
       "        [0.6787, 0.3040, 0.2913, 0.9279, 0.9279, 0.9279],\n",
       "        [0.8663, 0.2913, 0.7240, 1.1602, 1.1602, 1.1602],\n",
       "        [2.2311, 0.9279, 1.1602, 3.0000, 3.0000, 3.0000],\n",
       "        [2.2311, 0.9279, 1.1602, 3.0000, 3.0000, 3.0000],\n",
       "        [2.2311, 0.9279, 1.1602, 3.0000, 3.0000, 3.0000]])"
      ]
     },
     "execution_count": 58,
     "metadata": {},
     "output_type": "execute_result"
    }
   ],
   "source": [
    "cat_tensor_mult"
   ]
  },
  {
   "cell_type": "code",
   "execution_count": 60,
   "id": "5753f32b-3bb7-4109-b35a-0abf80d3fa1a",
   "metadata": {},
   "outputs": [
    {
     "data": {
      "text/plain": [
       "tensor([[1.9082, 0.6787, 0.8663, 2.2311, 2.2311, 2.2311],\n",
       "        [0.6787, 0.3040, 0.2913, 0.9279, 0.9279, 0.9279],\n",
       "        [0.8663, 0.2913, 0.7240, 1.1602, 1.1602, 1.1602],\n",
       "        [2.2311, 0.9279, 1.1602, 3.0000, 3.0000, 3.0000],\n",
       "        [2.2311, 0.9279, 1.1602, 3.0000, 3.0000, 3.0000],\n",
       "        [2.2311, 0.9279, 1.1602, 3.0000, 3.0000, 3.0000]])"
      ]
     },
     "execution_count": 60,
     "metadata": {},
     "output_type": "execute_result"
    }
   ],
   "source": [
    "cat_tensor.matmul(cat_tensor.T)"
   ]
  },
  {
   "cell_type": "code",
   "execution_count": 61,
   "id": "f75669a4-b13b-4eaa-a050-f0b224296876",
   "metadata": {},
   "outputs": [],
   "source": [
    "new_cat_tensor = torch.rand(cat_tensor_mult.shape)"
   ]
  },
  {
   "cell_type": "code",
   "execution_count": 64,
   "id": "d1c6b0b4-6432-4017-8562-6c269c2e7866",
   "metadata": {},
   "outputs": [
    {
     "data": {
      "text/plain": [
       "tensor([[0.9112, 0.3383, 0.9816],\n",
       "        [0.2061, 0.3383, 0.3835],\n",
       "        [0.7796, 0.3383, 0.0423],\n",
       "        [1.0000, 1.0000, 1.0000],\n",
       "        [1.0000, 1.0000, 1.0000],\n",
       "        [1.0000, 1.0000, 1.0000]])"
      ]
     },
     "execution_count": 64,
     "metadata": {},
     "output_type": "execute_result"
    }
   ],
   "source": [
    "cat_tensor * torch.ones(cat_tensor.shape)"
   ]
  },
  {
   "cell_type": "code",
   "execution_count": 65,
   "id": "224fe704-307e-434f-b9a8-6e66b7e8dc64",
   "metadata": {},
   "outputs": [
    {
     "data": {
      "text/plain": [
       "tensor([[0.9112, 0.3383, 0.9816],\n",
       "        [0.2061, 0.3383, 0.3835],\n",
       "        [0.7796, 0.3383, 0.0423],\n",
       "        [1.0000, 1.0000, 1.0000],\n",
       "        [1.0000, 1.0000, 1.0000],\n",
       "        [1.0000, 1.0000, 1.0000]])"
      ]
     },
     "execution_count": 65,
     "metadata": {},
     "output_type": "execute_result"
    }
   ],
   "source": [
    "cat_tensor"
   ]
  },
  {
   "cell_type": "code",
   "execution_count": 66,
   "id": "51e4c68d-c6a6-4174-9a80-29831e60dca3",
   "metadata": {},
   "outputs": [],
   "source": [
    "agg = rand_tensor.sum()"
   ]
  },
  {
   "cell_type": "code",
   "execution_count": 67,
   "id": "a3e40136-3af0-411b-a9d1-48ecd6a3bd1f",
   "metadata": {},
   "outputs": [
    {
     "data": {
      "text/plain": [
       "tensor(4.3192)"
      ]
     },
     "execution_count": 67,
     "metadata": {},
     "output_type": "execute_result"
    }
   ],
   "source": [
    "agg"
   ]
  },
  {
   "cell_type": "code",
   "execution_count": 68,
   "id": "6ce27765-ebdb-4956-bfca-e34f72c7cadf",
   "metadata": {},
   "outputs": [],
   "source": [
    "agg_item = agg.item()"
   ]
  },
  {
   "cell_type": "code",
   "execution_count": 69,
   "id": "a841b5ca-ca86-4c53-a844-4da9b65e7fed",
   "metadata": {},
   "outputs": [
    {
     "data": {
      "text/plain": [
       "4.319199085235596"
      ]
     },
     "execution_count": 69,
     "metadata": {},
     "output_type": "execute_result"
    }
   ],
   "source": [
    "agg_item"
   ]
  },
  {
   "cell_type": "code",
   "execution_count": 73,
   "id": "a12debcb-2fb1-4c15-ba0e-b3bfd4cb9917",
   "metadata": {},
   "outputs": [
    {
     "data": {
      "text/plain": [
       "tensor([[5., 5., 5.],\n",
       "        [5., 5., 5.],\n",
       "        [5., 5., 5.]])"
      ]
     },
     "execution_count": 73,
     "metadata": {},
     "output_type": "execute_result"
    }
   ],
   "source": [
    "torch.ones((3,3)).multiply(5)"
   ]
  },
  {
   "cell_type": "code",
   "execution_count": 74,
   "id": "73a4c258-46ca-42e6-a1de-bde7a5a74623",
   "metadata": {},
   "outputs": [
    {
     "data": {
      "text/plain": [
       "tensor([[6., 6., 6.],\n",
       "        [6., 6., 6.],\n",
       "        [6., 6., 6.]])"
      ]
     },
     "execution_count": 74,
     "metadata": {},
     "output_type": "execute_result"
    }
   ],
   "source": [
    "torch.ones((3,3)).add_(5)"
   ]
  },
  {
   "cell_type": "code",
   "execution_count": 75,
   "id": "28249f28-56b7-4a1e-b9d2-0740ddb6c433",
   "metadata": {},
   "outputs": [],
   "source": [
    "ones_np = ones_tensor.numpy()"
   ]
  },
  {
   "cell_type": "code",
   "execution_count": 76,
   "id": "85883d3b-d54b-4142-afbb-8f600429726d",
   "metadata": {},
   "outputs": [
    {
     "data": {
      "text/plain": [
       "array([[1., 1., 1.],\n",
       "       [1., 1., 1.],\n",
       "       [1., 1., 1.]], dtype=float32)"
      ]
     },
     "execution_count": 76,
     "metadata": {},
     "output_type": "execute_result"
    }
   ],
   "source": [
    "ones_np"
   ]
  },
  {
   "cell_type": "code",
   "execution_count": 77,
   "id": "aaf91e91-2a9e-4cf5-a85f-bb37bce67b3e",
   "metadata": {},
   "outputs": [
    {
     "data": {
      "text/plain": [
       "tensor([[5., 5., 5.],\n",
       "        [5., 5., 5.],\n",
       "        [5., 5., 5.]])"
      ]
     },
     "execution_count": 77,
     "metadata": {},
     "output_type": "execute_result"
    }
   ],
   "source": [
    "ones_tensor.mul_(5)"
   ]
  },
  {
   "cell_type": "code",
   "execution_count": 78,
   "id": "ab1908b3-06ce-4801-b7ce-601dcfd656b6",
   "metadata": {},
   "outputs": [
    {
     "data": {
      "text/plain": [
       "array([[5., 5., 5.],\n",
       "       [5., 5., 5.],\n",
       "       [5., 5., 5.]], dtype=float32)"
      ]
     },
     "execution_count": 78,
     "metadata": {},
     "output_type": "execute_result"
    }
   ],
   "source": [
    "ones_np"
   ]
  },
  {
   "cell_type": "code",
   "execution_count": 80,
   "id": "06486b5d-f703-4377-80ba-7a40cfffbef0",
   "metadata": {},
   "outputs": [],
   "source": [
    "n_array = np.ones((5, 3))"
   ]
  },
  {
   "cell_type": "code",
   "execution_count": 81,
   "id": "49a36472-aaff-476f-a649-96594c6eb92b",
   "metadata": {},
   "outputs": [],
   "source": [
    "ones_tensor = torch.from_numpy(n_array)"
   ]
  },
  {
   "cell_type": "code",
   "execution_count": 82,
   "id": "d47d1b09-b33a-49cf-a139-3411e585b404",
   "metadata": {},
   "outputs": [
    {
     "data": {
      "text/plain": [
       "tensor([[4., 4., 4.],\n",
       "        [4., 4., 4.],\n",
       "        [4., 4., 4.],\n",
       "        [4., 4., 4.],\n",
       "        [4., 4., 4.]], dtype=torch.float64)"
      ]
     },
     "execution_count": 82,
     "metadata": {},
     "output_type": "execute_result"
    }
   ],
   "source": [
    "ones_tensor.add_(3)"
   ]
  },
  {
   "cell_type": "code",
   "execution_count": 83,
   "id": "d4149708-a728-4bf5-a3ba-edf1038c29cb",
   "metadata": {},
   "outputs": [
    {
     "data": {
      "text/plain": [
       "array([[4., 4., 4.],\n",
       "       [4., 4., 4.],\n",
       "       [4., 4., 4.],\n",
       "       [4., 4., 4.],\n",
       "       [4., 4., 4.]])"
      ]
     },
     "execution_count": 83,
     "metadata": {},
     "output_type": "execute_result"
    }
   ],
   "source": [
    "n_array"
   ]
  },
  {
   "cell_type": "code",
   "execution_count": 86,
   "id": "44fa30e5-c68d-4b43-92c6-b7ceb38420ab",
   "metadata": {},
   "outputs": [],
   "source": [
    "arr = np.arange(1, 10, 1)"
   ]
  },
  {
   "cell_type": "code",
   "execution_count": 87,
   "id": "12e08872-d11d-49a5-9349-b767585767d6",
   "metadata": {},
   "outputs": [
    {
     "data": {
      "text/plain": [
       "array([1, 2, 3, 4, 5, 6, 7, 8, 9])"
      ]
     },
     "execution_count": 87,
     "metadata": {},
     "output_type": "execute_result"
    }
   ],
   "source": [
    "arr"
   ]
  },
  {
   "cell_type": "code",
   "execution_count": 88,
   "id": "bb13087d-c2f2-41df-af3e-1f5e0e840d29",
   "metadata": {},
   "outputs": [],
   "source": [
    "arr_tensor = torch.tensor(arr)"
   ]
  },
  {
   "cell_type": "code",
   "execution_count": 89,
   "id": "5581cc85-7f1c-4650-827d-ba638f4e96b9",
   "metadata": {},
   "outputs": [
    {
     "data": {
      "text/plain": [
       "tensor([1, 2, 3, 4, 5, 6, 7, 8, 9], dtype=torch.int32)"
      ]
     },
     "execution_count": 89,
     "metadata": {},
     "output_type": "execute_result"
    }
   ],
   "source": [
    "arr_tensor"
   ]
  },
  {
   "cell_type": "code",
   "execution_count": 90,
   "id": "65778c58-6db9-436b-afad-99acb075a426",
   "metadata": {},
   "outputs": [
    {
     "data": {
      "text/plain": [
       "tensor([ 5,  6,  7,  8,  9, 10, 11, 12, 13], dtype=torch.int32)"
      ]
     },
     "execution_count": 90,
     "metadata": {},
     "output_type": "execute_result"
    }
   ],
   "source": [
    "arr_tensor.add_(4)"
   ]
  },
  {
   "cell_type": "code",
   "execution_count": 91,
   "id": "0a9238e8-1681-4706-875c-c1e6376b2171",
   "metadata": {},
   "outputs": [
    {
     "data": {
      "text/plain": [
       "array([1, 2, 3, 4, 5, 6, 7, 8, 9])"
      ]
     },
     "execution_count": 91,
     "metadata": {},
     "output_type": "execute_result"
    }
   ],
   "source": [
    "arr"
   ]
  },
  {
   "cell_type": "code",
   "execution_count": 92,
   "id": "bde57765-7aad-441d-b5c1-d17351c02718",
   "metadata": {},
   "outputs": [],
   "source": [
    "random_tensor = torch.rand((5, 3))"
   ]
  },
  {
   "cell_type": "code",
   "execution_count": 93,
   "id": "458d8c9f-4b3a-45a9-b2e9-f186e0b80105",
   "metadata": {},
   "outputs": [
    {
     "data": {
      "text/plain": [
       "tensor([[0.2834, 0.0378, 0.3493],\n",
       "        [0.2774, 0.3243, 0.2011],\n",
       "        [0.3076, 0.7487, 0.6890],\n",
       "        [0.6944, 0.7458, 0.1496],\n",
       "        [0.2153, 0.5109, 0.0054]])"
      ]
     },
     "execution_count": 93,
     "metadata": {},
     "output_type": "execute_result"
    }
   ],
   "source": [
    "random_tensor"
   ]
  },
  {
   "cell_type": "code",
   "execution_count": 95,
   "id": "8a1558f9-f90d-4692-8463-53eab5967b18",
   "metadata": {},
   "outputs": [
    {
     "data": {
      "text/plain": [
       "tensor([[0.2038, 0.1611, 0.3561, 0.2773, 0.0822],\n",
       "        [0.1611, 0.2226, 0.4667, 0.4646, 0.2265],\n",
       "        [0.3561, 0.4667, 1.1298, 0.8750, 0.4525],\n",
       "        [0.2773, 0.4646, 0.8750, 1.0608, 0.5314],\n",
       "        [0.0822, 0.2265, 0.4525, 0.5314, 0.3074]])"
      ]
     },
     "execution_count": 95,
     "metadata": {},
     "output_type": "execute_result"
    }
   ],
   "source": [
    "random_tensor @ random_tensor.T"
   ]
  },
  {
   "cell_type": "code",
   "execution_count": 97,
   "id": "494c1b97-d079-4d41-9aba-a8b9038e4f70",
   "metadata": {},
   "outputs": [
    {
     "data": {
      "text/plain": [
       "tensor([[8.0344e-02, 1.4288e-03, 1.2200e-01],\n",
       "        [7.6974e-02, 1.0515e-01, 4.0445e-02],\n",
       "        [9.4619e-02, 5.6052e-01, 4.7469e-01],\n",
       "        [4.8220e-01, 5.5628e-01, 2.2373e-02],\n",
       "        [4.6346e-02, 2.6105e-01, 2.9291e-05]])"
      ]
     },
     "execution_count": 97,
     "metadata": {},
     "output_type": "execute_result"
    }
   ],
   "source": [
    "random_tensor * random_tensor"
   ]
  },
  {
   "cell_type": "code",
   "execution_count": 99,
   "id": "ae242b97-bccc-4296-ba4a-99bc4cde2ce7",
   "metadata": {},
   "outputs": [],
   "source": [
    "n_cat_tensor = torch.cat([random_tensor * random_tensor, random_tensor * random_tensor], dim = 0)"
   ]
  },
  {
   "cell_type": "code",
   "execution_count": 100,
   "id": "c2f7f0fd-4c76-4a49-bd18-cd38df95b543",
   "metadata": {},
   "outputs": [
    {
     "data": {
      "text/plain": [
       "tensor([[8.0344e-02, 1.4288e-03, 1.2200e-01],\n",
       "        [7.6974e-02, 1.0515e-01, 4.0445e-02],\n",
       "        [9.4619e-02, 5.6052e-01, 4.7469e-01],\n",
       "        [4.8220e-01, 5.5628e-01, 2.2373e-02],\n",
       "        [4.6346e-02, 2.6105e-01, 2.9291e-05],\n",
       "        [8.0344e-02, 1.4288e-03, 1.2200e-01],\n",
       "        [7.6974e-02, 1.0515e-01, 4.0445e-02],\n",
       "        [9.4619e-02, 5.6052e-01, 4.7469e-01],\n",
       "        [4.8220e-01, 5.5628e-01, 2.2373e-02],\n",
       "        [4.6346e-02, 2.6105e-01, 2.9291e-05]])"
      ]
     },
     "execution_count": 100,
     "metadata": {},
     "output_type": "execute_result"
    }
   ],
   "source": [
    "n_cat_tensor"
   ]
  },
  {
   "cell_type": "code",
   "execution_count": 101,
   "id": "5a2054be-c2b6-4a48-bfc8-9e8b99fea7ae",
   "metadata": {},
   "outputs": [],
   "source": [
    "n_cat_tensor = torch.cat([random_tensor * random_tensor, random_tensor * random_tensor], dim = 1)"
   ]
  },
  {
   "cell_type": "code",
   "execution_count": null,
   "id": "43acdaa2-2864-4718-8690-52a3de9c0c35",
   "metadata": {},
   "outputs": [],
   "source": []
  }
 ],
 "metadata": {
  "kernelspec": {
   "display_name": "Python 3 (ipykernel)",
   "language": "python",
   "name": "python3"
  },
  "language_info": {
   "codemirror_mode": {
    "name": "ipython",
    "version": 3
   },
   "file_extension": ".py",
   "mimetype": "text/x-python",
   "name": "python",
   "nbconvert_exporter": "python",
   "pygments_lexer": "ipython3",
   "version": "3.9.4"
  }
 },
 "nbformat": 4,
 "nbformat_minor": 5
}
